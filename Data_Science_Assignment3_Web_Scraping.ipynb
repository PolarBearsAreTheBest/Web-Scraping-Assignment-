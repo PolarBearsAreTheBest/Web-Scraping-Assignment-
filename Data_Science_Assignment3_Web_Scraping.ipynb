{
 "cells": [
  {
   "cell_type": "markdown",
   "id": "5b2f00e5",
   "metadata": {},
   "source": [
    "# Data Science Assignment 03: Web Scraping"
   ]
  },
  {
   "cell_type": "code",
   "execution_count": 1,
   "id": "6d489ae0",
   "metadata": {},
   "outputs": [],
   "source": [
    "# Import all the necessary packages\n",
    "import requests\n",
    "import pandas as pd\n",
    "from bs4 import BeautifulSoup"
   ]
  },
  {
   "cell_type": "code",
   "execution_count": 2,
   "id": "e696b730",
   "metadata": {},
   "outputs": [],
   "source": [
    "# The url of the website we are going to scrape\n",
    "url = \"https://webpages.charlotte.edu/mscipion/\"\n",
    "\n",
    "# Send HTTP request to get the specified URL\n",
    "response = requests.get(url)\n",
    "response.raise_for_status()"
   ]
  },
  {
   "cell_type": "code",
   "execution_count": 3,
   "id": "d9ada44b",
   "metadata": {},
   "outputs": [],
   "source": [
    "# Create a soap object by passing the HTML content\n",
    "# This will allow us to extract the data\n",
    "soup = BeautifulSoup(response.content, 'html.parser')"
   ]
  },
  {
   "cell_type": "code",
   "execution_count": 4,
   "id": "278a12a7",
   "metadata": {},
   "outputs": [],
   "source": [
    "# We use the find method which will locate the table and find it's reference\n",
    "table = soup.find(\"table\", class_=\"table table-sm table-hover screenertable\")"
   ]
  },
  {
   "cell_type": "code",
   "execution_count": 5,
   "id": "56864df7",
   "metadata": {},
   "outputs": [],
   "source": [
    "# Find the table\n",
    "table = soup.find('table')"
   ]
  },
  {
   "cell_type": "code",
   "execution_count": 6,
   "id": "3e1668fa",
   "metadata": {},
   "outputs": [],
   "source": [
    "# Now we will extra the data from the table\n",
    "table_data = []\n",
    "headers = []"
   ]
  },
  {
   "cell_type": "code",
   "execution_count": 7,
   "id": "d971121a",
   "metadata": {},
   "outputs": [],
   "source": [
    "# Extract the headers from the table\n",
    "for th in table.find_all('th'):\n",
    "    headers.append(th.text.strip())"
   ]
  },
  {
   "cell_type": "code",
   "execution_count": 8,
   "id": "94fb7974",
   "metadata": {},
   "outputs": [],
   "source": [
    "# Extract the rows from the table\n",
    "for row in table.find_all('tr')[1:]:  # Skipping the header row\n",
    "    cols = row.find_all('td')\n",
    "    cols = [ele.text.strip() for ele in cols]\n",
    "    table_data.append(cols)"
   ]
  },
  {
   "cell_type": "code",
   "execution_count": 9,
   "id": "a391a32f",
   "metadata": {},
   "outputs": [
    {
     "data": {
      "text/html": [
       "<div>\n",
       "<style scoped>\n",
       "    .dataframe tbody tr th:only-of-type {\n",
       "        vertical-align: middle;\n",
       "    }\n",
       "\n",
       "    .dataframe tbody tr th {\n",
       "        vertical-align: top;\n",
       "    }\n",
       "\n",
       "    .dataframe thead th {\n",
       "        text-align: right;\n",
       "    }\n",
       "</style>\n",
       "<table border=\"1\" class=\"dataframe\">\n",
       "  <thead>\n",
       "    <tr style=\"text-align: right;\">\n",
       "      <th></th>\n",
       "      <th>Student</th>\n",
       "      <th>Favourite Computer Language</th>\n",
       "      <th>Years of Experience</th>\n",
       "    </tr>\n",
       "  </thead>\n",
       "  <tbody>\n",
       "    <tr>\n",
       "      <th>0</th>\n",
       "      <td>Fred</td>\n",
       "      <td>Kotlin</td>\n",
       "      <td>4</td>\n",
       "    </tr>\n",
       "    <tr>\n",
       "      <th>1</th>\n",
       "      <td>Paula</td>\n",
       "      <td>Python</td>\n",
       "      <td>2</td>\n",
       "    </tr>\n",
       "    <tr>\n",
       "      <th>2</th>\n",
       "      <td>Ernst</td>\n",
       "      <td>Java</td>\n",
       "      <td>7</td>\n",
       "    </tr>\n",
       "    <tr>\n",
       "      <th>3</th>\n",
       "      <td>Isabel</td>\n",
       "      <td>C++</td>\n",
       "      <td>3</td>\n",
       "    </tr>\n",
       "    <tr>\n",
       "      <th>4</th>\n",
       "      <td>Tony</td>\n",
       "      <td>Pearl</td>\n",
       "      <td>7</td>\n",
       "    </tr>\n",
       "  </tbody>\n",
       "</table>\n",
       "</div>"
      ],
      "text/plain": [
       "  Student Favourite Computer Language Years of Experience\n",
       "0    Fred                      Kotlin                   4\n",
       "1   Paula                      Python                   2\n",
       "2   Ernst                        Java                   7\n",
       "3  Isabel                         C++                   3\n",
       "4    Tony                       Pearl                   7"
      ]
     },
     "execution_count": 9,
     "metadata": {},
     "output_type": "execute_result"
    }
   ],
   "source": [
    "# Now we create the DataFrame\n",
    "df = pd.DataFrame(table_data, columns=headers)\n",
    "\n",
    "df.head()"
   ]
  }
 ],
 "metadata": {
  "kernelspec": {
   "display_name": "Python 3 (ipykernel)",
   "language": "python",
   "name": "python3"
  },
  "language_info": {
   "codemirror_mode": {
    "name": "ipython",
    "version": 3
   },
   "file_extension": ".py",
   "mimetype": "text/x-python",
   "name": "python",
   "nbconvert_exporter": "python",
   "pygments_lexer": "ipython3",
   "version": "3.11.4"
  }
 },
 "nbformat": 4,
 "nbformat_minor": 5
}
